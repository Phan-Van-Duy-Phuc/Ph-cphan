{
  "nbformat": 4,
  "nbformat_minor": 0,
  "metadata": {
    "colab": {
      "name": "bai-https://maps.google.com/tap-pandas-series-duyphuc.ipynb",
      "provenance": [],
      "authorship_tag": "ABX9TyNULKfZ3GqEabcm4NMoGZXq",
      "include_colab_link": true
    },
    "kernelspec": {
      "name": "python3",
      "display_name": "Python 3"
    }
  },
  "cells": [
    {
      "cell_type": "markdown",
      "metadata": {
        "id": "view-in-github",
        "colab_type": "text"
      },
      "source": [
        "<a href=\"https://colab.research.google.com/github/Phan-Van-Duy-Phuc/Ph-cphan/blob/main/bai_https_maps_google_com_tap_pandas_series_duyphuc.ipynb\" target=\"_parent\"><img src=\"https://colab.research.google.com/assets/colab-badge.svg\" alt=\"Open In Colab\"/></a>"
      ]
    },
    {
      "cell_type": "markdown",
      "metadata": {
        "id": "nn8zRmEQckqD"
      },
      "source": [
        "\r\n",
        "Câu 1: Hãy tạo 1 đối tượng kiểu Series có tối thiểu 10 phần tử (kiểu số) với giá trị tùy ý thích của bạn. In giá trị của Series đó ra màn hình"
      ]
    },
    {
      "cell_type": "code",
      "metadata": {
        "colab": {
          "base_uri": "https://localhost:8080/"
        },
        "id": "1efPNErecl5M",
        "outputId": "639556a6-7d07-48af-a7bc-719efb3868ce"
      },
      "source": [
        "import pandas as pd\r\n",
        "\r\n",
        "a = pd.Series([10,25,48,50,67,98,50,15,18,65])\r\n",
        "seri = pd.Series(a)\r\n",
        "print(seri)"
      ],
      "execution_count": null,
      "outputs": [
        {
          "output_type": "stream",
          "text": [
            "0    10\n",
            "1    25\n",
            "2    48\n",
            "3    50\n",
            "4    67\n",
            "5    98\n",
            "6    50\n",
            "7    15\n",
            "8    18\n",
            "9    65\n",
            "dtype: int64\n"
          ],
          "name": "stdout"
        }
      ]
    },
    {
      "cell_type": "markdown",
      "metadata": {
        "id": "C8Z0_cH9dSN1"
      },
      "source": [
        "Câu 2: Hãy tạo 1 đối tượng kiểu Series với giá trị khởi tạo hình thành từ dữ liệu kiểu Dictionary. In kết quả ra màn hình"
      ]
    },
    {
      "cell_type": "code",
      "metadata": {
        "colab": {
          "base_uri": "https://localhost:8080/"
        },
        "id": "9H3DRHHjdUTs",
        "outputId": "11dc62f0-6c0a-4dc5-c248-526324164b18"
      },
      "source": [
        "import pandas as pd\r\n",
        "\r\n",
        "data = {'a' : -1.5, 'b' : 12, 'd' : 2.0, 'f': 10, 'g': 5}\r\n",
        "ser = pd.Series(data,index=['a','c','b','d','e','f'])\r\n",
        "print(ser)"
      ],
      "execution_count": null,
      "outputs": [
        {
          "output_type": "stream",
          "text": [
            "a    -1.5\n",
            "c     NaN\n",
            "b    12.0\n",
            "d     2.0\n",
            "e     NaN\n",
            "f    10.0\n",
            "dtype: float64\n"
          ],
          "name": "stdout"
        }
      ]
    },
    {
      "cell_type": "markdown",
      "metadata": {
        "id": "MBI8Zq0zeJVh"
      },
      "source": [
        "Câu 3: Sử dụng series ở câu 1, hãy thay đổi giá trị của cột index từ kiểu số theo kiểu ký tự với giá trị do bạn tự xác định."
      ]
    },
    {
      "cell_type": "code",
      "metadata": {
        "colab": {
          "base_uri": "https://localhost:8080/"
        },
        "id": "0NGd2hWVeMsx",
        "outputId": "be43ad17-a68d-4848-eca0-e834f94189bd"
      },
      "source": [
        "import pandas as pd\r\n",
        "index = ['a','b','c','d','e','f','g','h','i','j']\r\n",
        "a = [10,25,48,50,67,98,50,15,18,65]\r\n",
        "seri1 = pd.Series(a, index=index)\r\n",
        "seri1"
      ],
      "execution_count": null,
      "outputs": [
        {
          "output_type": "execute_result",
          "data": {
            "text/plain": [
              "a    10\n",
              "b    25\n",
              "c    48\n",
              "d    50\n",
              "e    67\n",
              "f    98\n",
              "g    50\n",
              "h    15\n",
              "i    18\n",
              "j    65\n",
              "dtype: int64"
            ]
          },
          "metadata": {
            "tags": []
          },
          "execution_count": 6
        }
      ]
    },
    {
      "cell_type": "markdown",
      "metadata": {
        "id": "6Al-2bIHhLnN"
      },
      "source": [
        "Câu 4: Sử dụng series ở câu 2, hãy truy cập đến phần tử thứ 5 và in ra màn hình"
      ]
    },
    {
      "cell_type": "code",
      "metadata": {
        "colab": {
          "base_uri": "https://localhost:8080/"
        },
        "id": "AJQFY5XShQlR",
        "outputId": "bbd66bed-10c4-459a-e168-ee2baa2bdd29"
      },
      "source": [
        "pd.DataFrame(ser).iloc[4]"
      ],
      "execution_count": null,
      "outputs": [
        {
          "output_type": "execute_result",
          "data": {
            "text/plain": [
              "0   NaN\n",
              "Name: e, dtype: float64"
            ]
          },
          "metadata": {
            "tags": []
          },
          "execution_count": 12
        }
      ]
    },
    {
      "cell_type": "markdown",
      "metadata": {
        "id": "cV5hWXwXiZl7"
      },
      "source": [
        "Câu 5: Sử dụng series ở câu 3, hãy truy cập đến 1 phần tử dựa theo chỉ số kiểu ký tự do bạn lựa chọn và in ra màn hình"
      ]
    },
    {
      "cell_type": "code",
      "metadata": {
        "colab": {
          "base_uri": "https://localhost:8080/"
        },
        "id": "s4x9LRyNiaDK",
        "outputId": "4bdd79b5-8d60-4b35-ae87-6510e39f9c4b"
      },
      "source": [
        "seri1['g']"
      ],
      "execution_count": null,
      "outputs": [
        {
          "output_type": "execute_result",
          "data": {
            "text/plain": [
              "50"
            ]
          },
          "metadata": {
            "tags": []
          },
          "execution_count": 8
        }
      ]
    },
    {
      "cell_type": "markdown",
      "metadata": {
        "id": "Yew3rBaei2nu"
      },
      "source": [
        "Câu 6: Sử dụng series ở câu 3, hãy tìm ra tính chất đặc thù trong các chỉ số kiểu kí tự, thực hiện vòng lặp for duyệt trên các chỉ mục kiểu kí tự này để lọc ra những phần tử thỏa mãn điều kiện và in ra màn hình"
      ]
    },
    {
      "cell_type": "code",
      "metadata": {
        "colab": {
          "base_uri": "https://localhost:8080/"
        },
        "id": "_SJPcwymi4Ym",
        "outputId": "c81321f4-1d67-4b17-9cfc-222cde922853"
      },
      "source": [
        "seri1[[name.endswith('1') for name in seri1.index]]"
      ],
      "execution_count": null,
      "outputs": [
        {
          "output_type": "execute_result",
          "data": {
            "text/plain": [
              "Series([], dtype: int64)"
            ]
          },
          "metadata": {
            "tags": []
          },
          "execution_count": 9
        }
      ]
    },
    {
      "cell_type": "markdown",
      "metadata": {
        "id": "rui1PL5Wkujb"
      },
      "source": [
        "Câu 7: Sử dụng series ở câu 1, hãy đổi tên cột index thành 'STT' và đặt tên cho series là 'Gia_tri'. In kết quả ra màn hình"
      ]
    },
    {
      "cell_type": "code",
      "metadata": {
        "colab": {
          "base_uri": "https://localhost:8080/"
        },
        "id": "_BHg16kZkv5M",
        "outputId": "ad251a7d-bc36-4ccb-822b-0715d5b0ab70"
      },
      "source": [
        "seri.index.name = 'STT'\r\n",
        "seri.name = 'Gia_tri'\r\n",
        "seri"
      ],
      "execution_count": null,
      "outputs": [
        {
          "output_type": "execute_result",
          "data": {
            "text/plain": [
              "STT\n",
              "0    10\n",
              "1    25\n",
              "2    48\n",
              "3    50\n",
              "4    67\n",
              "5    98\n",
              "6    50\n",
              "7    15\n",
              "8    18\n",
              "9    65\n",
              "Name: Gia_tri, dtype: int64"
            ]
          },
          "metadata": {
            "tags": []
          },
          "execution_count": 24
        }
      ]
    },
    {
      "cell_type": "markdown",
      "metadata": {
        "id": "QdJwsZOqlfSj"
      },
      "source": [
        "Câu 8: Hãy áp dụng hàm logarith của gói numpy với series ở câu 1 và in kết quả ra màn hình"
      ]
    },
    {
      "cell_type": "code",
      "metadata": {
        "colab": {
          "base_uri": "https://localhost:8080/"
        },
        "id": "4627AXOylhea",
        "outputId": "e559afb5-f4a0-4305-91fe-c2fd46db616d"
      },
      "source": [
        "import numpy as np\r\n",
        "np.log(seri)"
      ],
      "execution_count": null,
      "outputs": [
        {
          "output_type": "execute_result",
          "data": {
            "text/plain": [
              "STT\n",
              "0    2.302585\n",
              "1    3.218876\n",
              "2    3.871201\n",
              "3    3.912023\n",
              "4    4.204693\n",
              "5    4.584967\n",
              "6    3.912023\n",
              "7    2.708050\n",
              "8    2.890372\n",
              "9    4.174387\n",
              "Name: Gia_tri, dtype: float64"
            ]
          },
          "metadata": {
            "tags": []
          },
          "execution_count": 25
        }
      ]
    },
    {
      "cell_type": "markdown",
      "metadata": {
        "id": "hjM_08VQloQb"
      },
      "source": [
        "Câu 9: Lọc các giá trị của series 1 > 15 và in ra màn hình"
      ]
    },
    {
      "cell_type": "code",
      "metadata": {
        "id": "0Hgh03QKlorE",
        "colab": {
          "base_uri": "https://localhost:8080/"
        },
        "outputId": "db9dd264-4e50-4693-b660-cc9c340d3ab4"
      },
      "source": [
        "seri[seri > 15]"
      ],
      "execution_count": null,
      "outputs": [
        {
          "output_type": "execute_result",
          "data": {
            "text/plain": [
              "STT\n",
              "1    25\n",
              "2    48\n",
              "3    50\n",
              "4    67\n",
              "5    98\n",
              "6    50\n",
              "8    18\n",
              "9    65\n",
              "Name: Gia_tri, dtype: int64"
            ]
          },
          "metadata": {
            "tags": []
          },
          "execution_count": 26
        }
      ]
    },
    {
      "cell_type": "markdown",
      "metadata": {
        "id": "Vpzi5jmzcj1V"
      },
      "source": [
        ""
      ]
    }
  ]
}