{
  "nbformat": 4,
  "nbformat_minor": 0,
  "metadata": {
    "colab": {
      "name": "btapduyphuc.ipynb",
      "provenance": [],
      "authorship_tag": "ABX9TyNLPrxuhpg25541gh6fhIto",
      "include_colab_link": true
    },
    "kernelspec": {
      "name": "python3",
      "display_name": "Python 3"
    }
  },
  "cells": [
    {
      "cell_type": "markdown",
      "metadata": {
        "id": "view-in-github",
        "colab_type": "text"
      },
      "source": [
        "<a href=\"https://colab.research.google.com/github/Phan-Van-Duy-Phuc/Ph-cphan/blob/main/btapduyphuc.ipynb\" target=\"_parent\"><img src=\"https://colab.research.google.com/assets/colab-badge.svg\" alt=\"Open In Colab\"/></a>"
      ]
    },
    {
      "cell_type": "code",
      "metadata": {
        "colab": {
          "base_uri": "https://localhost:8080/"
        },
        "id": "CodtFdR_Ry_Q",
        "outputId": "14cc1004-0a71-4d94-8c5d-262043805774"
      },
      "source": [
        "import requests\r\n",
        "import urllib.request\r\n",
        "from bs4 import BeautifulSoup\r\n",
        "\r\n",
        "\r\n",
        "\r\n",
        "url = 'https://thethao247.vn/'\r\n",
        "r = urllib.request.urlopen(url) #, allow_redirects=True)\r\n",
        "print(r)\r\n",
        "\r\n",
        "#open('thethao247', 'wb').write(r.content)\r\n",
        "watch_html = BeautifulSoup(r , 'html.parser')"
      ],
      "execution_count": 1,
      "outputs": [
        {
          "output_type": "stream",
          "text": [
            "<http.client.HTTPResponse object at 0x7f3cfec68cf8>\n"
          ],
          "name": "stdout"
        }
      ]
    },
    {
      "cell_type": "markdown",
      "metadata": {
        "id": "heAwiixsSOt9"
      },
      "source": [
        "1. Tải 1 url về"
      ]
    },
    {
      "cell_type": "code",
      "metadata": {
        "id": "Pqpgcio0SdnT"
      },
      "source": [
        "file = 'url_list' + '.html'\r\n",
        "f = open(file, 'w')\r\n",
        "f.write(link.text)    #Nhập nội dung file\r\n",
        "f.close()\r\n"
      ],
      "execution_count": null,
      "outputs": []
    },
    {
      "cell_type": "markdown",
      "metadata": {
        "id": "lfgKWuMKSjvr"
      },
      "source": [
        "2. Lưu 1 html vào thư mục chỉ định\r\n"
      ]
    },
    {
      "cell_type": "code",
      "metadata": {
        "colab": {
          "base_uri": "https://localhost:8080/"
        },
        "id": "ZYHrjQ_eSo3L",
        "outputId": "ef7376e5-3c26-4c30-dccb-11ade43b5cea"
      },
      "source": [
        "list_a = [1, 2, 3, 4]\r\n",
        "print(\"Trước khi xóa:\",list_a)\r\n",
        "list_b=list_a.pop(0)\r\n",
        "print(\"Sau khi xóa:\",list_a)"
      ],
      "execution_count": 2,
      "outputs": [
        {
          "output_type": "stream",
          "text": [
            "Trước khi xóa: [1, 2, 3, 4]\n",
            "Sau khi xóa: [2, 3, 4]\n"
          ],
          "name": "stdout"
        }
      ]
    },
    {
      "cell_type": "markdown",
      "metadata": {
        "id": "Ch1JobzOSz3r"
      },
      "source": [
        "3. Cách lấy 1 phần tử đầu tiên ra khỏi list và xóa nó khỏi list"
      ]
    },
    {
      "cell_type": "code",
      "metadata": {
        "id": "F0zBdvzcS4Uz"
      },
      "source": [
        "from urllib.request import urlopen\r\n",
        "from bs4 import BeautifulSoup \r\n",
        "\r\n",
        "html = urlopen(url)\r\n",
        "bs = BeautifulSoup(html, 'html.parser')\r\n",
        "for link in bs.find_all(\"a\"):\r\n",
        "    if 'href' in link.attrs:\r\n",
        "        print(link.attrs['href'])"
      ],
      "execution_count": null,
      "outputs": []
    },
    {
      "cell_type": "code",
      "metadata": {
        "id": "I-AqxLPWS64D"
      },
      "source": [
        "4. Cách lấy các url trong html"
      ],
      "execution_count": null,
      "outputs": []
    }
  ]
}