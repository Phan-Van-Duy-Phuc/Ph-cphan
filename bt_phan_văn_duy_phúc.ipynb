{
  "nbformat": 4,
  "nbformat_minor": 0,
  "metadata": {
    "colab": {
      "name": "bt phan văn duy phúc.ipynb",
      "provenance": [],
      "authorship_tag": "ABX9TyMkpak71KfAx+/fleyEriIf",
      "include_colab_link": true
    },
    "kernelspec": {
      "name": "python3",
      "display_name": "Python 3"
    }
  },
  "cells": [
    {
      "cell_type": "markdown",
      "metadata": {
        "id": "view-in-github",
        "colab_type": "text"
      },
      "source": [
        "<a href=\"https://colab.research.google.com/github/Phan-Van-Duy-Phuc/Ph-cphan/blob/main/bt_phan_v%C4%83n_duy_ph%C3%BAc.ipynb\" target=\"_parent\"><img src=\"https://colab.research.google.com/assets/colab-badge.svg\" alt=\"Open In Colab\"/></a>"
      ]
    },
    {
      "cell_type": "markdown",
      "metadata": {
        "id": "vycr4YMdreUF"
      },
      "source": [
        "BÀI TẬP LẬP TRÌNH CHƯƠNG 2\n",
        "\n",
        "Bài 1:\n",
        "\n"
      ]
    },
    {
      "cell_type": "code",
      "metadata": {
        "id": "bthvV0UxrRuI",
        "outputId": "cf573350-8c24-481c-c964-edf7fedb3442",
        "colab": {
          "base_uri": "https://localhost:8080/"
        }
      },
      "source": [
        "a = int(input('a='))\n",
        "b = int(input('b='))\n",
        "c= a+b\n",
        "d=a*b\n",
        "e=a-b\n",
        "f= a%b\n",
        "g= a//b\n",
        "print('Tổng là: ',c)\n",
        "print('Tích là: ',d)\n",
        "print('Hiệu a-b là : ', e)\n",
        "print('phần dư a/b là: ',f)\n",
        "print('phần nguyên a/b là: ',g)"
      ],
      "execution_count": 1,
      "outputs": [
        {
          "output_type": "stream",
          "text": [
            "a=2\n",
            "b=3\n",
            "Tổng là:  5\n",
            "Tích là:  6\n",
            "Hiệu a-b là :  -1\n",
            "phần dư a/b là:  2\n",
            "phần nguyên a/b là:  0\n"
          ],
          "name": "stdout"
        }
      ]
    },
    {
      "cell_type": "markdown",
      "metadata": {
        "id": "rjcl2EQ2ssho"
      },
      "source": [
        "Bài 2:"
      ]
    },
    {
      "cell_type": "code",
      "metadata": {
        "id": "DW06AYs4swGW",
        "outputId": "2ad320d1-0607-4c45-c5dd-35875f54d109",
        "colab": {
          "base_uri": "https://localhost:8080/"
        }
      },
      "source": [
        "a = float(input('a='))\n",
        "b = float(input('b='))\n",
        "c= a+b\n",
        "d=a-b\n",
        "e=a*b\n",
        "f=a/b\n",
        "print('Tổng là: ',c)\n",
        "print('hiệu a-b là: ',d)\n",
        "print('tích là: ', e)\n",
        "print('thương a/b là: ',f)"
      ],
      "execution_count": 2,
      "outputs": [
        {
          "output_type": "stream",
          "text": [
            "a=20\n",
            "b=4\n",
            "Tổng là:  24.0\n",
            "hiệu a-b là:  16.0\n",
            "tích là:  80.0\n",
            "thương a/b là:  5.0\n"
          ],
          "name": "stdout"
        }
      ]
    },
    {
      "cell_type": "markdown",
      "metadata": {
        "id": "t5HzWYDstL1l"
      },
      "source": [
        "Bài 3:"
      ]
    },
    {
      "cell_type": "code",
      "metadata": {
        "id": "9mVqGzv4tPCw",
        "outputId": "d6ecc1cd-87b4-4d52-fd76-7c6ced9f4a04",
        "colab": {
          "base_uri": "https://localhost:8080/"
        }
      },
      "source": [
        "import math\n",
        "x= float(input('x= '))\n",
        "x=math.fabs(x) # để x có thể nhận được giá trị <0 khi thực hiện căn bậc 2\n",
        "print('giá trị tuyệt đối của số x: ',x)\n",
        "print('phần nguyên của giá trị tuyệt đối của số x: ', int(x))\n",
        "float(x)\n",
        "y= float(input('y= '))\n",
        "egg=x**y\n",
        "print('|x|^y= ',egg)\n",
        "sqrt_x= math.sqrt(x)\n",
        "sqrt_y= math.sqrt(y)\n",
        "sqrt_egg= math.sqrt(egg)\n",
        "print('căn bậc 2 của giá trị tuyệt đối x: ', sqrt_x)\n",
        "print('căn bậc 2 của y: ', sqrt_y)\n",
        "print('căn bậc 2 của x^y: ', sqrt_egg)"
      ],
      "execution_count": 3,
      "outputs": [
        {
          "output_type": "stream",
          "text": [
            "x= -2\n",
            "giá trị tuyệt đối của số x:  2.0\n",
            "phần nguyên của giá trị tuyệt đối của số x:  2\n",
            "y= 4\n",
            "|x|^y=  16.0\n",
            "căn bậc 2 của giá trị tuyệt đối x:  1.4142135623730951\n",
            "căn bậc 2 của y:  2.0\n",
            "căn bậc 2 của x^y:  4.0\n"
          ],
          "name": "stdout"
        }
      ]
    },
    {
      "cell_type": "markdown",
      "metadata": {
        "id": "nQkTnwZgt2BN"
      },
      "source": [
        "Bài 4:"
      ]
    },
    {
      "cell_type": "code",
      "metadata": {
        "id": "_Gomk59Zt3v3",
        "outputId": "2c7631d0-7898-4151-d760-490b644f791d",
        "colab": {
          "base_uri": "https://localhost:8080/"
        }
      },
      "source": [
        "x= float(input('x= '))\n",
        "y= float(input('y= '))\n",
        "print('x>=y',x>=y)\n",
        "print('x<=y',x<=y)\n",
        "print('x>y',x>y)\n",
        "print('x<y',x<y)\n",
        "print('x<>y',x!=y)"
      ],
      "execution_count": 4,
      "outputs": [
        {
          "output_type": "stream",
          "text": [
            "x= 5\n",
            "y= 6\n",
            "x>=y False\n",
            "x<=y True\n",
            "x>y False\n",
            "x<y True\n",
            "x<>y True\n"
          ],
          "name": "stdout"
        }
      ]
    },
    {
      "cell_type": "markdown",
      "metadata": {
        "id": "dHp1jL0ruCee"
      },
      "source": [
        "Bài 5:"
      ]
    },
    {
      "cell_type": "code",
      "metadata": {
        "id": "lEgIqK47uFOd",
        "outputId": "52b5c74a-b8d6-4f13-9452-96c3afe32942",
        "colab": {
          "base_uri": "https://localhost:8080/"
        }
      },
      "source": [
        "some_string= input('nhập một chuỗi ký tự: ')\n",
        "print(some_string.upper())\n",
        "print(some_string.lower())"
      ],
      "execution_count": 5,
      "outputs": [
        {
          "output_type": "stream",
          "text": [
            "nhập một chuỗi ký tự: Xin chào mọi người\n",
            "XIN CHÀO MỌI NGƯỜI\n",
            "xin chào mọi người\n"
          ],
          "name": "stdout"
        }
      ]
    },
    {
      "cell_type": "markdown",
      "metadata": {
        "id": "dGUtMXmeufNe"
      },
      "source": [
        "Bài 6:"
      ]
    },
    {
      "cell_type": "code",
      "metadata": {
        "id": "Q48Yt3qguhBG",
        "outputId": "a47b63ae-5f4d-4b72-d0a6-34ce84b9d852",
        "colab": {
          "base_uri": "https://localhost:8080/"
        }
      },
      "source": [
        "print('''Từ ấy trong tôi bừng nắng hạ\n",
        "Mặt trời chân lý chói qua tim\n",
        "Hồn tôi là một vườn hoa lá\n",
        "Rất đậm hương và rộn tiếng chim...\n",
        "Tôi buộc lòng tôi với mọi người\n",
        "Để tình trang trải với trăm nơi\n",
        "Để hồn tôi với bao hồn khổ\n",
        "Gần gũi nhau thêm mạnh khối đời\n",
        "Tôi đã là con của vạn nhà\n",
        "Là em của vạn kiếp phôi pha\n",
        "Là anh của vạn đầu em nhỏ\n",
        "Không áo cơm, cù bất cù bơ...''')"
      ],
      "execution_count": 6,
      "outputs": [
        {
          "output_type": "stream",
          "text": [
            "Từ ấy trong tôi bừng nắng hạ\n",
            "Mặt trời chân lý chói qua tim\n",
            "Hồn tôi là một vườn hoa lá\n",
            "Rất đậm hương và rộn tiếng chim...\n",
            "Tôi buộc lòng tôi với mọi người\n",
            "Để tình trang trải với trăm nơi\n",
            "Để hồn tôi với bao hồn khổ\n",
            "Gần gũi nhau thêm mạnh khối đời\n",
            "Tôi đã là con của vạn nhà\n",
            "Là em của vạn kiếp phôi pha\n",
            "Là anh của vạn đầu em nhỏ\n",
            "Không áo cơm, cù bất cù bơ...\n"
          ],
          "name": "stdout"
        }
      ]
    }
  ]
}