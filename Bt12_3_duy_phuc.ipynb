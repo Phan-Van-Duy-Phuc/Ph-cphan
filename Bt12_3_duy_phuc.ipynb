{
  "nbformat": 4,
  "nbformat_minor": 0,
  "metadata": {
    "colab": {
      "name": "Bt12-3 duy phuc.ipynb",
      "provenance": [],
      "authorship_tag": "ABX9TyOrihiyffzBqzD/istKlGJ3",
      "include_colab_link": true
    },
    "kernelspec": {
      "name": "python3",
      "display_name": "Python 3"
    }
  },
  "cells": [
    {
      "cell_type": "markdown",
      "metadata": {
        "id": "view-in-github",
        "colab_type": "text"
      },
      "source": [
        "<a href=\"https://colab.research.google.com/github/Phan-Van-Duy-Phuc/Ph-cphan/blob/main/Bt12_3_duy_phuc.ipynb\" target=\"_parent\"><img src=\"https://colab.research.google.com/assets/colab-badge.svg\" alt=\"Open In Colab\"/></a>"
      ]
    },
    {
      "cell_type": "code",
      "metadata": {
        "colab": {
          "base_uri": "https://localhost:8080/"
        },
        "id": "tBfXQT3TJ7xF",
        "outputId": "e2aae96a-d88b-459f-deb8-92bcf2c62d6d"
      },
      "source": [
        "#1.Tạo ngẫu nhiên số  phần tử của List  50 <= n <= 100\n",
        "import numpy as np\n",
        "import random\n",
        "n = random.randint(50,100)\n",
        "rd = np.random.random_sample(size=n)*10000-10000\n",
        "print(\"list1 = \",rd)\n",
        "\n",
        "\n",
        "#2. Tạo ngẫu nhiên List gồm n phần tử với cấu trúc sau: [{'name': ' sinh ngẫu nhiên', 'age': 'sinh ngẫu nhiên'}] có tất cả n dictionary như trên trong List.\n",
        "import random,string\n",
        "x = random.randint(2,50)\n",
        "z= list()\n",
        "for i in range (x):\n",
        "    y = random.randint(2,10)\n",
        "    t = random.choice(string.ascii_uppercase)\n",
        "    h = t+ ''.join(random.choice(string.ascii_lowercase) for i in range (y))\n",
        "    m = random.randint(0, 100)\n",
        "    k = [{'name':h, 'age':m}] \n",
        "    z.extend(k) \n",
        "print(\"list 2= \",z)"
      ],
      "execution_count": 1,
      "outputs": [
        {
          "output_type": "stream",
          "text": [
            "list1 =  [-4733.1630297  -3195.74044678 -9078.2356617  -3526.15732194\n",
            " -3876.58247017  -705.98667679 -6515.11842283 -3436.58700987\n",
            " -6923.56192541 -1178.04448694 -5502.5707915  -6899.22013856\n",
            " -4277.39933725 -2313.11293574 -1082.58158149 -7841.46804152\n",
            " -4686.20555532 -5025.74798476 -6999.59563552 -5721.85328603\n",
            " -2194.73167232 -1592.43619736   -82.62263131 -2444.0458051\n",
            " -8214.5951364  -4467.80319236 -7513.17783792 -6860.69052887\n",
            " -2736.63053378  -773.31621971 -2773.46323613 -9076.89503417\n",
            " -6299.88538632 -6532.38919264 -9122.67935549 -2491.1834292\n",
            " -3206.87675814 -2997.61546604 -2697.86229344 -2804.3093453\n",
            " -8882.32915328 -9054.03529135 -7807.41569312 -5216.66961417\n",
            " -2979.05724659 -7271.92013708 -2195.34600801 -9025.1048163\n",
            " -8083.12422964 -1979.67737814 -9620.64594238 -7649.40306985\n",
            " -2497.65559312 -3955.54481954 -8007.33445779 -7837.82800075\n",
            " -9774.99092367 -8274.92700562 -1303.06636343 -3551.71161768\n",
            " -9352.65291858 -7153.8696943  -3521.81769025 -7322.70496159\n",
            " -5947.05544009 -8858.42466778 -7626.30688615 -9976.78015234\n",
            " -3579.99063007 -4270.25073788 -2228.7964311  -4094.39491378]\n",
            "list 2=  [{'name': 'Jai', 'age': 16}, {'name': 'Sfpjjtw', 'age': 11}, {'name': 'Pkb', 'age': 28}, {'name': 'Pnsgx', 'age': 70}, {'name': 'Hll', 'age': 15}]\n"
          ],
          "name": "stdout"
        }
      ]
    }
  ]
}