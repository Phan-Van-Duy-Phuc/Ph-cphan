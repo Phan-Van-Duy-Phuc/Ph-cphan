{
  "nbformat": 4,
  "nbformat_minor": 0,
  "metadata": {
    "colab": {
      "name": "Bt12-2 duy phuc.ipynb",
      "provenance": [],
      "authorship_tag": "ABX9TyPbFEo66xf1nVgFctnVDTdf",
      "include_colab_link": true
    },
    "kernelspec": {
      "name": "python3",
      "display_name": "Python 3"
    }
  },
  "cells": [
    {
      "cell_type": "markdown",
      "metadata": {
        "id": "view-in-github",
        "colab_type": "text"
      },
      "source": [
        "<a href=\"https://colab.research.google.com/github/Phan-Van-Duy-Phuc/Ph-cphan/blob/main/Bt12_2_duy_phuc.ipynb\" target=\"_parent\"><img src=\"https://colab.research.google.com/assets/colab-badge.svg\" alt=\"Open In Colab\"/></a>"
      ]
    },
    {
      "cell_type": "code",
      "metadata": {
        "colab": {
          "base_uri": "https://localhost:8080/"
        },
        "id": "aqPi4aaHW5bG",
        "outputId": "27057193-7ddf-44c6-c5f9-ce7463875529"
      },
      "source": [
        "import string,random\n",
        "R=dict()\n",
        "n=random.randrange(1,20)\n",
        "T=random.choice(string.ascii_uppercase)\n",
        "H=T+''.join(random.choice(string.ascii_lowercase) for i in range(n-1))\n",
        "R['name']=H\n",
        "A=random.randrange(1,100)\n",
        "R['age']=A\n",
        "print(\"Dictonary: \",R)"
      ],
      "execution_count": 3,
      "outputs": [
        {
          "output_type": "stream",
          "text": [
            "Dictonary:  {'name': 'Smsquksjj', 'age': 33}\n"
          ],
          "name": "stdout"
        }
      ]
    }
  ]
}