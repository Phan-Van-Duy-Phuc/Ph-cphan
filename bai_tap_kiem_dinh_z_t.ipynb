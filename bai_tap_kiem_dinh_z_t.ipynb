{
  "nbformat": 4,
  "nbformat_minor": 0,
  "metadata": {
    "kernelspec": {
      "display_name": "Python 3",
      "language": "python",
      "name": "python3"
    },
    "language_info": {
      "codemirror_mode": {
        "name": "ipython",
        "version": 3
      },
      "file_extension": ".py",
      "mimetype": "text/x-python",
      "name": "python",
      "nbconvert_exporter": "python",
      "pygments_lexer": "ipython3",
      "version": "3.7.3"
    },
    "colab": {
      "name": "bai-tap-kiem-dinh-z-t.ipynb",
      "provenance": [],
      "include_colab_link": true
    }
  },
  "cells": [
    {
      "cell_type": "markdown",
      "metadata": {
        "id": "view-in-github",
        "colab_type": "text"
      },
      "source": [
        "<a href=\"https://colab.research.google.com/github/Phan-Van-Duy-Phuc/Ph-cphan/blob/main/bai_tap_kiem_dinh_z_t.ipynb\" target=\"_parent\"><img src=\"https://colab.research.google.com/assets/colab-badge.svg\" alt=\"Open In Colab\"/></a>"
      ]
    },
    {
      "cell_type": "markdown",
      "metadata": {
        "id": "Za0hbtB6HLUx"
      },
      "source": [
        "XÂY DỰNG CHƯƠNG TRÌNH KIỂM ĐỊNH Z (HOẶC T) CHO CÁC BÀI TẬP SAU\n",
        "\n",
        "Gợi ý:\n",
        "\n",
        "- Số liệu được sinh ngẫu nhiên theo phân phối chuẩn\n",
        "- Sử dụng gói phần mềm statsmodels để tiến hành kiểm định\n",
        "- Đối với các bài tập kiểm định giả thuyết thì sinh viên cần phát biểu các giả thuyết (bằng tiếng Việt) $H_{0}$ và $H_{a}$ trước khi lập trình kiểm định"
      ]
    },
    {
      "cell_type": "markdown",
      "metadata": {
        "id": "oBR3mWQdHLVI"
      },
      "source": [
        "Bài 1: You’re a Q/C inspector for Gallo. The sample standard deviation for 2-liter bottles is .05 liters.  A random sample of 100 bottles showed sample mean = 1.99 liters.  What is the 90%  confidence interval estimate of the true mean amount in 2-liter bottles? "
      ]
    },
    {
      "cell_type": "code",
      "metadata": {
        "id": "WUJRAELaHLVL",
        "outputId": "07ff7174-de39-4609-e166-e91534dfea57",
        "colab": {
          "base_uri": "https://localhost:8080/"
        }
      },
      "source": [
        "import math\n",
        "\n",
        "n = 100\n",
        "mean = 1.99\n",
        "σ = 0.05\n",
        "z = 1.645\n",
        "\n",
        "confidence_down = mean - (z * σ / math.sqrt(n) )\n",
        "confidence_up = mean + (z * σ / math.sqrt(n) )\n",
        "print('The 90% confidence interval estimate of the true mean amount in 2-liter bottles',confidence_down,'and',confidence_up)"
      ],
      "execution_count": 1,
      "outputs": [
        {
          "output_type": "stream",
          "text": [
            "The 90% confidence interval estimate of the true mean amount in 2-liter bottles 1.981775 and 1.998225\n"
          ],
          "name": "stdout"
        }
      ]
    },
    {
      "cell_type": "markdown",
      "metadata": {
        "id": "Q-tPuAzpHLVN"
      },
      "source": [
        "Bài 2: You’re a time study analyst in manufacturing.  You’ve recorded the following task times (min.): 3.6, 4.2, 4.0, 3.5, 3.8, 3.1. What is the 90% confidence interval estimate of the population mean task time? "
      ]
    },
    {
      "cell_type": "code",
      "metadata": {
        "id": "Wa3NtuAHHLVO",
        "outputId": "8a3b4ac9-b0e0-417e-f008-d2b96933f4ff",
        "colab": {
          "base_uri": "https://localhost:8080/"
        }
      },
      "source": [
        "import statistics\n",
        "\n",
        "x = [3.6,4.2,4,3.5,3.8,3.1]\n",
        "mean = round(sum(x) / len(x),1)\n",
        "n = 6\n",
        "df = n - 1\n",
        "t = 2.015\n",
        "standard = statistics.stdev(x)\n",
        "confidence_down = mean - (t * (standard / (n ** (1/2))))\n",
        "confidence_up = mean + (t * (standard / (n ** (1/2))))\n",
        "print('the 90% confidence interval estimate of the population mean task time is',confidence_down,'and',confidence_up)"
      ],
      "execution_count": 2,
      "outputs": [
        {
          "output_type": "stream",
          "text": [
            "the 90% confidence interval estimate of the population mean task time is 3.379283562421049 and 4.020716437578951\n"
          ],
          "name": "stdout"
        }
      ]
    },
    {
      "cell_type": "markdown",
      "metadata": {
        "id": "gPZmDnZTHLVP"
      },
      "source": [
        "Bài 3: Does an average box of cereal contain 368 grams of cereal?  A random sample of 25 boxes had $\\overline{\\rm x}$ = 372.5.  The company has specified $\\sigma$ to be 25 grams.  Test at the .05 level of significance."
      ]
    },
    {
      "cell_type": "code",
      "metadata": {
        "id": "1bE7DzW7HLVP",
        "outputId": "d1580a42-518a-42ff-e7f4-46126adc120d",
        "colab": {
          "base_uri": "https://localhost:8080/"
        }
      },
      "source": [
        "import numpy as np\n",
        "from statsmodels.stats.weightstats import ztest\n",
        "import warnings\n",
        "warnings.filterwarnings('ignore')\n",
        "\n",
        "mean = 372.5\n",
        "n = 25\n",
        "alpha = 25\n",
        "µ = 368\n",
        "z = (mean - µ) / (alpha / (n ** (1/2)))\n",
        "\n",
        "samples = np.random.normal(372.5, 25, 368)\n",
        "\n",
        "ztest_Score, p_value= ztest(samples, value = µ, alternative='larger')\n",
        "if(p_value <  alpha):\n",
        "  print(\"Có bằng chứng để bác bỏ giả thuyết H0\")\n",
        "else:\n",
        "  print(\"Chưa có bằng chứng để bác bỏ giả thuyết H0\")"
      ],
      "execution_count": 4,
      "outputs": [
        {
          "output_type": "stream",
          "text": [
            "Có bằng chứng để bác bỏ giả thuyết H0\n"
          ],
          "name": "stdout"
        }
      ]
    },
    {
      "cell_type": "markdown",
      "metadata": {
        "id": "D7wLOz9FHLVQ"
      },
      "source": [
        "Bài 4: You’re a Q/C inspector.  You want to find out if a new machine is making electrical cords to customer specification: average breaking strength of 70 lb. with $\\sigma$ = 3.5 lb.  You take a sample of 36 cords & compute a sample mean of 69.7 lb.  At the .05 level of significance, is there evidence that the machine is not meeting the average breaking strength?"
      ]
    },
    {
      "cell_type": "code",
      "metadata": {
        "id": "HkLI7Dk5HLVQ",
        "outputId": "e948230a-f80d-4362-d6ad-c1ab12f50e27",
        "colab": {
          "base_uri": "https://localhost:8080/"
        }
      },
      "source": [
        "#xác định thông số \n",
        "alpha = 0.05\n",
        "null_mean = 70\n",
        "#sinh ngẫu nhiên một mẫu 36 phần tử có trung bình mẫu là 69.7 độ lệch chuẩn là 3.5\n",
        "samples = np.random.normal(69.7,3.5,36)\n",
        "#kiểm định z\n",
        "ztest_Score, p_value= ztest(samples, value = null_mean, alternative='larger')\n",
        "print('z = ', ztest_Score, '; p = ', p_value)\n",
        "if (p_value <  alpha) and (ztest_Score<0):\n",
        "  print(\"Có bằng chứng để bác bỏ giả thuyết H0\")\n",
        "else:\n",
        "  print(\"Chưa có bằng chứng để bác bỏ giả thuyết H0\")"
      ],
      "execution_count": 6,
      "outputs": [
        {
          "output_type": "stream",
          "text": [
            "z =  0.006366893605061679 ; p =  0.4974599941069796\n",
            "Chưa có bằng chứng để bác bỏ giả thuyết H0\n"
          ],
          "name": "stdout"
        }
      ]
    },
    {
      "cell_type": "markdown",
      "metadata": {
        "id": "Ui_13xjgHLVR"
      },
      "source": [
        "Bài 5: Does an average box of cereal contain more than 368 grams of cereal?  A random sample of 25 boxes showed $\\overline{\\rm x}$ =  372.5.  The company has specified $\\sigma$ to be 25 grams.  Test at the .05 level of significance."
      ]
    },
    {
      "cell_type": "code",
      "metadata": {
        "id": "atk08kmYHLVR",
        "outputId": "9326c7d7-4158-4202-8986-c7c60dca9706",
        "colab": {
          "base_uri": "https://localhost:8080/"
        }
      },
      "source": [
        "import numpy as np\n",
        "from statsmodels.stats.weightstats import ztest\n",
        "import warnings\n",
        "warnings.filterwarnings('ignore')\n",
        "\n",
        "mean = 372.5\n",
        "n = 25\n",
        "alpha = 25\n",
        "µ = 368\n",
        "z = (mean - µ) / (alpha / (n ** (1/2)))\n",
        "\n",
        "samples = np.random.normal(372.5, 25, 368)\n",
        "\n",
        "ztest_Score, p_value= ztest(samples, value = µ, alternative='larger')\n",
        "if(p_value <  alpha):\n",
        "  print(\"Có bằng chứng để bác bỏ giả thuyết H0\")\n",
        "else:\n",
        "  print(\"Chưa có bằng chứng để bác bỏ giả thuyết H0\")"
      ],
      "execution_count": 5,
      "outputs": [
        {
          "output_type": "stream",
          "text": [
            "Có bằng chứng để bác bỏ giả thuyết H0\n"
          ],
          "name": "stdout"
        }
      ]
    },
    {
      "cell_type": "markdown",
      "metadata": {
        "id": "JLwgCMhkHLVS"
      },
      "source": [
        "Bài 6: You’re an analyst for Ford.  You want to find out if the average miles per gallon of Escorts is at least 32 mpg. Similar models have a standard deviation of 3.8 mpg. You take a sample of 60 Escorts & compute a sample mean of 30.7 mpg. At the .01 level of significance, is there evidence that the miles per gallon is less than 32?"
      ]
    },
    {
      "cell_type": "code",
      "metadata": {
        "id": "ldyH2_PNHLVS",
        "outputId": "2881b2e9-e1c8-4a59-b138-8deb572cceda",
        "colab": {
          "base_uri": "https://localhost:8080/"
        }
      },
      "source": [
        "alpha = 0.01\n",
        "null_mean = 32\n",
        "#sinh ngẫu nhiên một mẫu 60 phần tử có trung bình mẫu là 30.7 độ lệch chuẩn là 3.8\n",
        "samples = np.random.normal(30.7,3.8,60)\n",
        "#kiểm định z\n",
        "ztest_Score, p_value= ztest(samples, value = null_mean, alternative='larger')\n",
        "print('z = ', ztest_Score, '; p = ', p_value)\n",
        "if (p_value <  alpha)and (ztest_Score<0):\n",
        "  print(\"Có bằng chứng để bác bỏ giả thuyết H0\")\n",
        "else:\n",
        "  print(\"Chưa có bằng chứng để bác bỏ giả thuyết H0\")"
      ],
      "execution_count": 8,
      "outputs": [
        {
          "output_type": "stream",
          "text": [
            "z =  -2.786027856980255 ; p =  0.9973320856988578\n",
            "Chưa có bằng chứng để bác bỏ giả thuyết H0\n"
          ],
          "name": "stdout"
        }
      ]
    },
    {
      "cell_type": "markdown",
      "metadata": {
        "id": "3lW_w3F-HLVT"
      },
      "source": [
        "Bài 7: Does an average box of cereal contain 368 grams of cereal?  A random sample of 25 boxes showed $\\overline{\\rm x}$ = 372.5.  The company has specified $\\sigma$ to be 15 grams.  Find the p-Value."
      ]
    },
    {
      "cell_type": "code",
      "metadata": {
        "id": "9MgqoJ8jHLVT",
        "outputId": "159cf687-9582-4555-de86-76606c57eee9",
        "colab": {
          "base_uri": "https://localhost:8080/"
        }
      },
      "source": [
        "\n",
        "import numpy as np\n",
        "import pandas as pd\n",
        "import random\n",
        "from statsmodels.stats.weightstats import ztest\n",
        "from scipy import stats as st\n",
        "\n",
        "import warnings\n",
        "#xác định thông số\n",
        "null_mean = 368\n",
        "\n",
        "#Sinh ngẫu nhiên một mẫu 25 phần tử có trung bình mẫu là 372.5, độ lệch chuẩn là 25\n",
        "samples = np.random.normal(372.5, 25, 25)\n",
        "#Kiểm định t\n",
        "ttest_Score, p_value = st.ttest_1samp(samples, null_mean)\n",
        "print('p_value = ',p_value)"
      ],
      "execution_count": 10,
      "outputs": [
        {
          "output_type": "stream",
          "text": [
            "p_value =  0.696796476273947\n"
          ],
          "name": "stdout"
        }
      ]
    },
    {
      "cell_type": "markdown",
      "metadata": {
        "id": "SYl2a1Z3HLVT"
      },
      "source": [
        "Bài 8: Does an average box of cereal contain more than 368 grams of cereal?  A random sample of 25 boxes showed $\\overline{\\rm x}$ = 372.5.  The company has specified $\\sigma$ to be 15 grams.  Find the p-Value."
      ]
    },
    {
      "cell_type": "code",
      "metadata": {
        "id": "SVSFjm2aHLVU",
        "outputId": "55ddd04e-c734-4a3e-d53e-4885e3790ed0",
        "colab": {
          "base_uri": "https://localhost:8080/"
        }
      },
      "source": [
        "#xác định thông số\n",
        "null_mean = 368\n",
        "\n",
        "#Sinh ngẫu nhiên một mẫu 25 phần tử có trung bình mẫu là 372.5, độ lệch chuẩn là 25\n",
        "samples = np.random.normal(372.5, 25, 25)\n",
        "#Kiểm định t\n",
        "ttest_Score, p_value = st.ttest_1samp(samples, null_mean)\n",
        "print('p_value = ',p_value)"
      ],
      "execution_count": 11,
      "outputs": [
        {
          "output_type": "stream",
          "text": [
            "p_value =  0.9595752340553441\n"
          ],
          "name": "stdout"
        }
      ]
    },
    {
      "cell_type": "markdown",
      "metadata": {
        "id": "9umYLsfgHLVU"
      },
      "source": [
        "Bài 9: You’re an analyst for Ford.  You want to find out if the average miles per gallon of Escorts is less than 32 mpg.   Similar models have a standard deviation of 3.8 mpg.  You take a sample of 60 Escorts & compute a sample mean of 30.7 mpg.  What is the value of the observed level of significance (p-Value)?"
      ]
    },
    {
      "cell_type": "code",
      "metadata": {
        "id": "2Z5wRSkfHLVV",
        "outputId": "538c18ca-91f2-4c64-d9ce-8083a7ef5114",
        "colab": {
          "base_uri": "https://localhost:8080/"
        }
      },
      "source": [
        "null_mean = 32\n",
        "#sinh ngẫu nhiên một mẫu 60 phần tử có trung bình mẫu là 30.7 độ lệch chuẩn là 3.8\n",
        "samples = np.random.normal(30.7,3.8,60)\n",
        "#kiểm định z\n",
        "ztest_Score, p_value= ztest(samples, value = null_mean, alternative='larger')\n",
        "print(' p = ', p_value)"
      ],
      "execution_count": 12,
      "outputs": [
        {
          "output_type": "stream",
          "text": [
            " p =  0.9872322403797441\n"
          ],
          "name": "stdout"
        }
      ]
    },
    {
      "cell_type": "markdown",
      "metadata": {
        "id": "kUct-O5xHLVV"
      },
      "source": [
        "Bài 10: Does an average box of cereal contain 368 grams of cereal?  A random sample of 36 boxes had a mean of 372.5 and a standard deviation of 12 grams. Test at the .05 level of significance."
      ]
    },
    {
      "cell_type": "code",
      "metadata": {
        "id": "YmsiarsXHLVV",
        "outputId": "edc6b31e-9894-44d5-8689-3a3e1694598d",
        "colab": {
          "base_uri": "https://localhost:8080/"
        }
      },
      "source": [
        "\n",
        "#xác định thông số\n",
        "alpha = 0.05\n",
        "null_mean = 368\n",
        "\n",
        "#Sinh ngẫu nhiên một mẫu 25 phần tử có trung bình mẫu là 372.5, độ lệch chuẩn là 25\n",
        "samples = np.random.normal(372.5, 12, 36)\n",
        "#Kiểm định z\n",
        "ztest_Score, p_value= ztest(samples, value = null_mean, alternative='larger')\n",
        "print('z = ', ztest_Score, '; p = ', p_value)\n",
        "if (p_value <  alpha/2):\n",
        "  print(\"Có bằng chứng để bác bỏ giả thuyết H0\")\n",
        "else:\n",
        "  print(\"Chưa có bằng chứng để bác bỏ giả thuyết H0\")"
      ],
      "execution_count": 13,
      "outputs": [
        {
          "output_type": "stream",
          "text": [
            "z =  3.8380442885843284 ; p =  6.200905876474269e-05\n",
            "Có bằng chứng để bác bỏ giả thuyết H0\n"
          ],
          "name": "stdout"
        }
      ]
    },
    {
      "cell_type": "markdown",
      "metadata": {
        "id": "6LIfroEjHLVW"
      },
      "source": [
        "Bài 11: You work for the FTC.  A manufacturer of detergent claims that the mean weight of detergent is 3.25 lb.  You take a random sample of 64 containers.  You calculate the sample average to be 3.238 lb. with a standard deviation of .117 lb.  At the .01 level of significance, is the manufacturer correct?"
      ]
    },
    {
      "cell_type": "code",
      "metadata": {
        "id": "zwPqBF5wHLVW",
        "outputId": "cf6f97a4-6861-455c-cb72-fcfa1363d013",
        "colab": {
          "base_uri": "https://localhost:8080/"
        }
      },
      "source": [
        "\n",
        "alpha = 0.01\n",
        "null_mean = 3.25\n",
        "#Sinh ngẫu nhiên một mẫu 64 phần tử có trung bình mẫu là 3.238, độ lệch chuẩn là 0.117\n",
        "samples = np.random.normal(3.238, 0.117, 64)\n",
        "ztest_Score, p_value= ztest(samples, value = null_mean, alternative='larger')\n",
        "print('z = ', ztest_Score, '; p = ', p_value)\n",
        "if (p_value <  alpha/2):\n",
        "  print(\"Có bằng chứng để bác bỏ giả thuyết H0\")\n",
        "else:\n",
        "  print(\"Chưa có bằng chứng để bác bỏ giả thuyết H0\")"
      ],
      "execution_count": 14,
      "outputs": [
        {
          "output_type": "stream",
          "text": [
            "z =  0.9614725217383735 ; p =  0.16815731762448488\n",
            "Chưa có bằng chứng để bác bỏ giả thuyết H0\n"
          ],
          "name": "stdout"
        }
      ]
    },
    {
      "cell_type": "markdown",
      "metadata": {
        "id": "HcCS8KMYHLVW"
      },
      "source": [
        "Bài 12: Is the average capacity of batteries less than 140 ampere-hours?  A random sample of 20 batteries had a mean of 138.47 and a standard deviation of 2.66.  Assume a normal distribution. Test at the .05 level of significance."
      ]
    },
    {
      "cell_type": "code",
      "metadata": {
        "id": "z6dYKYntHLVX",
        "outputId": "8d583455-ebf8-48b7-d9af-2117a2527bb8",
        "colab": {
          "base_uri": "https://localhost:8080/"
        }
      },
      "source": [
        "\n",
        "alpha = 0.05\n",
        "null_mean = 140\n",
        "#Sinh ngẫu nhiên một mẫu 20 phần tử có trung bình mẫu là 138.47, độ lệch chuẩn là 2.66\n",
        "samples = np.random.normal(138.47, 2.66, 20)\n",
        "#Kiểm định t\n",
        "ttest_Score, p_value = st.ttest_1samp(samples, null_mean)\n",
        "print('t = ',ttest_Score,', p = ',p_value)\n",
        "if(p_value <  alpha) and (ttest_Score>0):\n",
        "  print(\"Có bằng chứng để bác bỏ giả thuyết H0\")\n",
        "else:\n",
        "  print(\"Chưa có bằng chứng để bác bỏ giả thuyết H0\")\n",
        "\n"
      ],
      "execution_count": 15,
      "outputs": [
        {
          "output_type": "stream",
          "text": [
            "t =  -3.5799870087318553 , p =  0.0019973326023143612\n",
            "Chưa có bằng chứng để bác bỏ giả thuyết H0\n"
          ],
          "name": "stdout"
        }
      ]
    },
    {
      "cell_type": "markdown",
      "metadata": {
        "id": "irWqpV6dHLVX"
      },
      "source": [
        "Bài 13: You’re a marketing analyst for Wal-Mart.  Wal-Mart had teddy bears on sale last week.  The weekly sales of bears sold in 10 stores was: 8  11  0   4   7   8   10   5   8   3. At the .05 level of significance, is there evidence that the average bear sales per store is more than 5?"
      ]
    },
    {
      "cell_type": "code",
      "metadata": {
        "id": "36dDNY9hHLVX",
        "outputId": "aed712c8-972a-4279-d8d0-9171805d68bf",
        "colab": {
          "base_uri": "https://localhost:8080/"
        }
      },
      "source": [
        "a = np.array([8,11,0,4,7,8,10,5,8,3])\n",
        "alpha = 0.05\n",
        "null_mean = 5\n",
        "#Kiểm định t\n",
        "ttest_Score, p_value = st.ttest_1samp(a, null_mean)\n",
        "print('t = ',ttest_Score,', p = ',p_value)\n",
        "if(p_value <  alpha) and (ttest_Score>0):\n",
        "  print(\"Có bằng chứng để bác bỏ giả thuyết H0\")\n",
        "else:\n",
        "  print(\"Chưa có bằng chứng để bác bỏ giả thuyết H0\")"
      ],
      "execution_count": 16,
      "outputs": [
        {
          "output_type": "stream",
          "text": [
            "t =  1.3125000000000004 , p =  0.2218341554238571\n",
            "Chưa có bằng chứng để bác bỏ giả thuyết H0\n"
          ],
          "name": "stdout"
        }
      ]
    },
    {
      "cell_type": "code",
      "metadata": {
        "id": "ctOaKpZkHLVY"
      },
      "source": [
        ""
      ],
      "execution_count": null,
      "outputs": []
    }
  ]
}