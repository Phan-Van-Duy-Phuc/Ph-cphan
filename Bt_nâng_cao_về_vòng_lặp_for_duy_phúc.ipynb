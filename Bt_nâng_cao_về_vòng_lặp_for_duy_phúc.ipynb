{
  "nbformat": 4,
  "nbformat_minor": 0,
  "metadata": {
    "colab": {
      "name": "Bt nâng cao về vòng lặp for duy phúc.ipynb",
      "provenance": [],
      "authorship_tag": "ABX9TyNVimrk5xB1j5CctKc2V8TP",
      "include_colab_link": true
    },
    "kernelspec": {
      "name": "python3",
      "display_name": "Python 3"
    }
  },
  "cells": [
    {
      "cell_type": "markdown",
      "metadata": {
        "id": "view-in-github",
        "colab_type": "text"
      },
      "source": [
        "<a href=\"https://colab.research.google.com/github/Phan-Van-Duy-Phuc/Ph-cphan/blob/main/Bt_n%C3%A2ng_cao_v%E1%BB%81_v%C3%B2ng_l%E1%BA%B7p_for_duy_ph%C3%BAc.ipynb\" target=\"_parent\"><img src=\"https://colab.research.google.com/assets/colab-badge.svg\" alt=\"Open In Colab\"/></a>"
      ]
    },
    {
      "cell_type": "markdown",
      "metadata": {
        "id": "JwmxZzhJ1HGf"
      },
      "source": [
        "Bài tập nâng cao về vòng lặp for:"
      ]
    },
    {
      "cell_type": "code",
      "metadata": {
        "colab": {
          "base_uri": "https://localhost:8080/"
        },
        "id": "v-RNObCd03px",
        "outputId": "72a02c65-30d5-4873-8536-44b4136f991c"
      },
      "source": [
        "\n",
        "list2 = [({'name': 'Peter', 'age':2}, {'name': 'John', 'age':21}), \n",
        "         ({'name': 'Mary', 'age':2}, {'name': 'Trandanpro', 'age':21}), \n",
        "         ({'name': 'Nam', 'age':2}, {'name': 'Hung', 'age':21}), \n",
        "         ({'name': 'Mai', 'age':2}, {'name': 'Loan', 'age':21})]\n",
        " \n",
        "for index, value in enumerate(list2):\n",
        "    print(f'{index}: {value}')\n",
        "    for index in value:\n",
        "        print(index)\n",
        "        for x in index :\n",
        "            print(x, \": \", index.get(x))"
      ],
      "execution_count": 1,
      "outputs": [
        {
          "output_type": "stream",
          "text": [
            "0: ({'name': 'Peter', 'age': 2}, {'name': 'John', 'age': 21})\n",
            "{'name': 'Peter', 'age': 2}\n",
            "name :  Peter\n",
            "age :  2\n",
            "{'name': 'John', 'age': 21}\n",
            "name :  John\n",
            "age :  21\n",
            "1: ({'name': 'Mary', 'age': 2}, {'name': 'Trandanpro', 'age': 21})\n",
            "{'name': 'Mary', 'age': 2}\n",
            "name :  Mary\n",
            "age :  2\n",
            "{'name': 'Trandanpro', 'age': 21}\n",
            "name :  Trandanpro\n",
            "age :  21\n",
            "2: ({'name': 'Nam', 'age': 2}, {'name': 'Hung', 'age': 21})\n",
            "{'name': 'Nam', 'age': 2}\n",
            "name :  Nam\n",
            "age :  2\n",
            "{'name': 'Hung', 'age': 21}\n",
            "name :  Hung\n",
            "age :  21\n",
            "3: ({'name': 'Mai', 'age': 2}, {'name': 'Loan', 'age': 21})\n",
            "{'name': 'Mai', 'age': 2}\n",
            "name :  Mai\n",
            "age :  2\n",
            "{'name': 'Loan', 'age': 21}\n",
            "name :  Loan\n",
            "age :  21\n"
          ],
          "name": "stdout"
        }
      ]
    }
  ]
}