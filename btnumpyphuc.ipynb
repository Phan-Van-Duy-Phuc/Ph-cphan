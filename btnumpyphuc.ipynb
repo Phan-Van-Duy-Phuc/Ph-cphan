{
  "nbformat": 4,
  "nbformat_minor": 0,
  "metadata": {
    "colab": {
      "name": "btnumpyphuc.ipynb",
      "provenance": [],
      "authorship_tag": "ABX9TyMt9UUyxFGCTpQoBjeQ81dw",
      "include_colab_link": true
    },
    "kernelspec": {
      "name": "python3",
      "display_name": "Python 3"
    }
  },
  "cells": [
    {
      "cell_type": "markdown",
      "metadata": {
        "id": "view-in-github",
        "colab_type": "text"
      },
      "source": [
        "<a href=\"https://colab.research.google.com/github/Phan-Van-Duy-Phuc/Ph-cphan/blob/main/btnumpyphuc.ipynb\" target=\"_parent\"><img src=\"https://colab.research.google.com/assets/colab-badge.svg\" alt=\"Open In Colab\"/></a>"
      ]
    },
    {
      "cell_type": "code",
      "metadata": {
        "id": "ytHS_LmoNPEP"
      },
      "source": [
        "import numpy as np"
      ],
      "execution_count": 1,
      "outputs": []
    },
    {
      "cell_type": "code",
      "metadata": {
        "colab": {
          "base_uri": "https://localhost:8080/"
        },
        "id": "WDDctGVCOxuf",
        "outputId": "eb2dc362-04a3-48a7-c3fc-a07b2d1a1f4e"
      },
      "source": [
        "a = np.array([[3, 6],\r\n",
        "              [4, 2]])\r\n",
        "b = np.array([[7, 9],\r\n",
        "              [5, 3]])\r\n",
        "c = np.add(a,b)\r\n",
        "d = np.subtract(a,b)\r\n",
        "e = np.multiply(a,b)\r\n",
        "f = np.divide(a,b)\r\n",
        "g = np.transpose(a) \r\n",
        "print(\"tong cua hai ma tran\",c)\r\n",
        "print(\"hieu cua hai ma tran\",d)\r\n",
        "print(\"nhan hai ma tran\",e)\r\n",
        "print(\"chia hai ma tran\",f)\r\n",
        "print(\"chuyen vi hai ma tran\",g)\r\n"
      ],
      "execution_count": 15,
      "outputs": [
        {
          "output_type": "stream",
          "text": [
            "tong cua hai ma tran [[10 15]\n",
            " [ 9  5]]\n",
            "hieu cua hai ma tran [[-4 -3]\n",
            " [-1 -1]]\n",
            "nhan hai ma tran [[21 54]\n",
            " [20  6]]\n",
            "chia hai ma tran [[0.42857143 0.66666667]\n",
            " [0.8        0.66666667]]\n",
            "chuyen vi hai ma tran [[3 4]\n",
            " [6 2]]\n"
          ],
          "name": "stdout"
        }
      ]
    }
  ]
}