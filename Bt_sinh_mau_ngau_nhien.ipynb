{
  "nbformat": 4,
  "nbformat_minor": 0,
  "metadata": {
    "kernelspec": {
      "display_name": "Python 3",
      "language": "python",
      "name": "python3"
    },
    "language_info": {
      "codemirror_mode": {
        "name": "ipython",
        "version": 3
      },
      "file_extension": ".py",
      "mimetype": "text/x-python",
      "name": "python",
      "nbconvert_exporter": "python",
      "pygments_lexer": "ipython3",
      "version": "3.7.3"
    },
    "colab": {
      "name": "bai-tap-sinh-mau-ngau-nhien.ipynb",
      "provenance": [],
      "include_colab_link": true
    }
  },
  "cells": [
    {
      "cell_type": "markdown",
      "metadata": {
        "id": "view-in-github",
        "colab_type": "text"
      },
      "source": [
        "<a href=\"https://colab.research.google.com/github/Phan-Van-Duy-Phuc/Ph-cphan/blob/main/Bt_sinh_mau_ngau_nhien.ipynb\" target=\"_parent\"><img src=\"https://colab.research.google.com/assets/colab-badge.svg\" alt=\"Open In Colab\"/></a>"
      ]
    },
    {
      "cell_type": "markdown",
      "metadata": {
        "id": "YQ6dNwMPXuAo"
      },
      "source": [
        "Sử dụng thư viện Numpy\n",
        "\n",
        "1. Sinh mẫu ngẫu nhiên bằng hàm arange trong khoảng [-15, 27] với khoảng cách là 0.7 và in kết quả ra màn hình"
      ]
    },
    {
      "cell_type": "code",
      "metadata": {
        "id": "dsrmBooWXuAt",
        "outputId": "4449034b-0c03-4be0-a95a-b3f628e78cdf",
        "colab": {
          "base_uri": "https://localhost:8080/"
        }
      },
      "source": [
        "import numpy as np\n",
        "from scipy import stats\n",
        "np.arange(-15, 27, 0.7)"
      ],
      "execution_count": 4,
      "outputs": [
        {
          "output_type": "execute_result",
          "data": {
            "text/plain": [
              "array([-15. , -14.3, -13.6, -12.9, -12.2, -11.5, -10.8, -10.1,  -9.4,\n",
              "        -8.7,  -8. ,  -7.3,  -6.6,  -5.9,  -5.2,  -4.5,  -3.8,  -3.1,\n",
              "        -2.4,  -1.7,  -1. ,  -0.3,   0.4,   1.1,   1.8,   2.5,   3.2,\n",
              "         3.9,   4.6,   5.3,   6. ,   6.7,   7.4,   8.1,   8.8,   9.5,\n",
              "        10.2,  10.9,  11.6,  12.3,  13. ,  13.7,  14.4,  15.1,  15.8,\n",
              "        16.5,  17.2,  17.9,  18.6,  19.3,  20. ,  20.7,  21.4,  22.1,\n",
              "        22.8,  23.5,  24.2,  24.9,  25.6,  26.3,  27. ])"
            ]
          },
          "metadata": {
            "tags": []
          },
          "execution_count": 4
        }
      ]
    },
    {
      "cell_type": "markdown",
      "metadata": {
        "id": "BvGR_UrbXuAu"
      },
      "source": [
        "2. Sinh mẫu ngẫu nhiên theo phân phối chuẩn với mean = 2.7 std = 1.2 và size = 40\n",
        "In kết quả ra màn hình"
      ]
    },
    {
      "cell_type": "code",
      "metadata": {
        "id": "mww7Tt6iXuAu",
        "outputId": "7b72f33f-5021-4634-e411-0d5b951f304a",
        "colab": {
          "base_uri": "https://localhost:8080/"
        }
      },
      "source": [
        "mean = 2.7   # loc\n",
        "std = 1.2    # scale\n",
        "size = 40    # cỡ mẫu\n",
        "\n",
        "x = stats.norm.rvs(mean, std, size)\n",
        "print(x)"
      ],
      "execution_count": 5,
      "outputs": [
        {
          "output_type": "stream",
          "text": [
            "[3.99240327 4.2253387  0.74964365 2.77431553 2.564364   3.55448872\n",
            " 1.52005638 2.6153465  1.6830541  3.46083952 1.18775916 1.10003625\n",
            " 4.25182312 5.12090395 2.48085973 1.81386492 4.05488829 2.27080295\n",
            " 1.16099045 2.69432131 2.07585481 4.73562073 2.2448345  3.72803637\n",
            " 2.45360635 1.81456298 0.92201488 5.24665492 2.35494901 1.56632875\n",
            " 3.66278848 2.45604537 4.30268055 2.36227742 2.98451904 2.05780517\n",
            " 3.82293091 3.76075905 1.186833   4.18184892]\n"
          ],
          "name": "stdout"
        }
      ]
    },
    {
      "cell_type": "markdown",
      "metadata": {
        "id": "nH5DyzxVXuAu"
      },
      "source": [
        "3. Sinh mẫu ngẫu nhiên từ vector ['Viet Nam', 'Britain', 'France', 'Russia', 'Singapore'] \n",
        "\n",
        "với kích thước là 17 theo phân phối chuẩn"
      ]
    },
    {
      "cell_type": "code",
      "metadata": {
        "id": "iQLaZbalXuAu",
        "outputId": "8844c484-b64c-41e6-9978-e32f6456361b",
        "colab": {
          "base_uri": "https://localhost:8080/"
        }
      },
      "source": [
        "sample_3 = np.random.choice(['Viet Nam', 'Britain', 'France', 'Russia','Singapore'], 17)\n",
        "print(sample_3)"
      ],
      "execution_count": 2,
      "outputs": [
        {
          "output_type": "stream",
          "text": [
            "['Viet Nam' 'Britain' 'Viet Nam' 'France' 'Russia' 'Russia' 'France'\n",
            " 'Britain' 'Russia' 'Russia' 'Singapore' 'France' 'Britain' 'Russia'\n",
            " 'Russia' 'Britain' 'France']\n"
          ],
          "name": "stdout"
        }
      ]
    },
    {
      "cell_type": "markdown",
      "metadata": {
        "id": "hO6m5E52XuAv"
      },
      "source": [
        "4. Sinh mẫu ngẫu nhiên ở câu 3 nhưng không theo phân phối chuẩn mà theo 1 vector đặc tả giá trị xác suất do bạn chọn"
      ]
    },
    {
      "cell_type": "code",
      "metadata": {
        "id": "KVs8uLYVXuAw",
        "outputId": "49c82980-bf1d-40a2-a1f1-855d5f8bb854",
        "colab": {
          "base_uri": "https://localhost:8080/"
        }
      },
      "source": [
        "so_du_lieu = 6\n",
        "sample_4 = np.random.choice(['Viet Nam', 'Britain', 'France', 'Russia', 'Singapore'], so_du_lieu, p = [0.2, 0.3, 0.1, 0.2, 0.2]) \n",
        "print(sample_4)"
      ],
      "execution_count": 10,
      "outputs": [
        {
          "output_type": "stream",
          "text": [
            "['France' 'Britain' 'Viet Nam' 'Viet Nam' 'Viet Nam' 'Russia']\n"
          ],
          "name": "stdout"
        }
      ]
    },
    {
      "cell_type": "markdown",
      "metadata": {
        "id": "31jKhyShXuAw"
      },
      "source": [
        "Sử dụng thư việc scipy.stats để sinh mẫu ngẫu nhiên\n",
        "\n",
        "1. Sinh mẫu ngẫu nhiên theo phân phối chuẩn với mean = 12.7, std = 2.6 và size = 30. In kết quả ra màn hình"
      ]
    },
    {
      "cell_type": "code",
      "metadata": {
        "id": "KDYOnO9KXuAw",
        "outputId": "f437e090-48f3-46d9-c713-24990dcc5c9d",
        "colab": {
          "base_uri": "https://localhost:8080/"
        }
      },
      "source": [
        "mean = 12.7   # loc\n",
        "std = 2.6    # scale\n",
        "size = 30    # cỡ mẫu\n",
        "\n",
        "sample_5 = stats.norm.rvs(mean, std, size)\n",
        "print(sample_5)"
      ],
      "execution_count": 12,
      "outputs": [
        {
          "output_type": "stream",
          "text": [
            "[ 6.53855804  9.39825504 12.28503078  7.76010005 15.13283019 15.01525143\n",
            " 13.37670992  9.87708394 11.14021944  6.78567379 13.06857145 13.22058187\n",
            " 17.84845218 11.34467578 13.17205149 12.26009842 14.19266223 19.14748058\n",
            " 14.02030734 14.10545685 18.15359145 17.92246693 11.69801681 14.01031342\n",
            " 11.44181918 15.66165606 14.54795483 11.14874463 12.195551   11.7417817 ]\n"
          ],
          "name": "stdout"
        }
      ]
    },
    {
      "cell_type": "markdown",
      "metadata": {
        "id": "OHrGGZx3XuAx"
      },
      "source": [
        "2. Hãy sinh một mẫu ngẫu nhiên theo phân phối Poisson"
      ]
    },
    {
      "cell_type": "code",
      "metadata": {
        "id": "e7mWZDZ3XuAx",
        "outputId": "f363c3b4-2a3a-46f9-b3f1-6d292d50393c",
        "colab": {
          "base_uri": "https://localhost:8080/"
        }
      },
      "source": [
        "sample_6 = np.random.poisson(lam=(100, 600), size=(5, 2))\n",
        "print(sample_6)"
      ],
      "execution_count": 18,
      "outputs": [
        {
          "output_type": "stream",
          "text": [
            "[[100 585]\n",
            " [100 600]\n",
            " [103 595]\n",
            " [109 634]\n",
            " [ 84 609]]\n"
          ],
          "name": "stdout"
        }
      ]
    },
    {
      "cell_type": "code",
      "metadata": {
        "id": "jxOHhkqiXuAx"
      },
      "source": [
        ""
      ],
      "execution_count": null,
      "outputs": []
    }
  ]
}