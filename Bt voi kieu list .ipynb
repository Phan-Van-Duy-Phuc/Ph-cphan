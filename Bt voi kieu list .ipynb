{
  "nbformat": 4,
  "nbformat_minor": 0,
  "metadata": {
    "colab": {
      "name": "Untitled",
      "provenance": [],
      "authorship_tag": "ABX9TyMA+zDUoyVDt8bagRxTDNzL",
      "include_colab_link": true
    },
    "kernelspec": {
      "name": "python3",
      "display_name": "Python 3"
    }
  },
  "cells": [
    {
      "cell_type": "markdown",
      "metadata": {
        "id": "view-in-github",
        "colab_type": "text"
      },
      "source": [
        "<a href=\"https://colab.research.google.com/github/Phan-Van-Duy-Phuc/Ph-cphan/blob/main/Bt%20voi%20kieu%20list%20.ipynb\" target=\"_parent\"><img src=\"https://colab.research.google.com/assets/colab-badge.svg\" alt=\"Open In Colab\"/></a>"
      ]
    },
    {
      "cell_type": "code",
      "metadata": {
        "id": "t4TKv3YQyoqW",
        "outputId": "7b9e8453-8e67-40bf-95a9-89e649ff7db5",
        "colab": {
          "base_uri": "https://localhost:8080/"
        }
      },
      "source": [
        "x = []\n",
        "x . append ( 18 )\n",
        "x . append ( \"Huế\" )\n",
        "y = [ 12 , 45 , -1 , -0.56 , \"abc\" ]\n",
        "x = x + y \n",
        "print ( x )\n",
        "print ( 'phan tu cuoi cung trong x la' , x [ -1 ])\n",
        "print ( 'phan tu dau tien cua x la ', x [ 0 ])\n",
        "print ( x [ 0 : 5 ])\n",
        "print ( x [ 2 : len ( x )])\n",
        "\n"
      ],
      "execution_count": 28,
      "outputs": [
        {
          "output_type": "stream",
          "text": [
            "[18, 'Huế', 12, 45, -1, -0.56, 'abc']\n",
            "phan tu cuoi cung trong x la abc\n",
            "phan tu dau tien cua x la  18\n",
            "[18, 'Huế', 12, 45, -1]\n",
            "[12, 45, -1, -0.56, 'abc']\n"
          ],
          "name": "stdout"
        }
      ]
    }
  ]
}